{
 "cells": [
  {
   "cell_type": "code",
   "execution_count": null,
   "metadata": {
    "dotnet_interactive": {
     "language": "pwsh"
    },
    "polyglot_notebook": {
     "kernelName": "pwsh"
    },
    "vscode": {
     "languageId": "polyglot-notebook"
    }
   },
   "outputs": [],
   "source": [
    "#dotnet tool install --global PowerShell                     #This is needed or the Automation namespace doesn't load in a Notebook\n",
    "#Install-PSResource PowerShellForGitHub -Scope AllUsers -Verbose\n",
    "#$Cred = New-Object System.Management.Automation.PSCredential \"<username>\",$(ConvertTo-SecureString '<PAT>' -asplaintext -force)\n",
    "#Set-GitHubAuthentication -Credential $Cred "
   ]
  },
  {
   "cell_type": "code",
   "execution_count": 1,
   "metadata": {
    "dotnet_interactive": {
     "language": "pwsh"
    },
    "polyglot_notebook": {
     "kernelName": "pwsh"
    },
    "vscode": {
     "languageId": "polyglot-notebook"
    }
   },
   "outputs": [
    {
     "data": {
      "text/plain": []
     },
     "metadata": {},
     "output_type": "display_data"
    },
    {
     "name": "stdout",
     "output_type": "stream",
     "text": [
      "\n",
      "\u001b[32;1mLabel                 \u001b[0m\u001b[32;1m Count\u001b[0m\u001b[32;1m Percentage\u001b[0m\n",
      "\u001b[32;1m-----                 \u001b[0m \u001b[32;1m-----\u001b[0m \u001b[32;1m----------\u001b[0m\n",
      "Needs-Triage             458     53.070\n",
      "Issue-Enhancement        294     34.070\n",
      "WG-Engine                137     15.870\n",
      "Issue-Bug                 94     10.890\n",
      "Review - Needed           87     10.080\n",
      "Up-for-Grabs              77      8.920\n",
      "WG-Cmdlets-Utility        69      8.000\n",
      "WG-Cmdlets                62      7.180\n",
      "WG-Language               48      5.560\n",
      "In-PR                     46      5.330\n",
      "WG-Cmdlets-Management     45      5.210\n",
      "Issue-Question            43      4.980\n",
      "Issue-Discussion          41      4.750\n",
      "Extra Small               40      4.630\n",
      "WG-Cmdlets-Core           35      4.060\n",
      "WG-NeedsReview            34      3.940\n",
      "WG-Interactive-Console    31      3.590\n",
      "\n"
     ]
    },
    {
     "ename": "Error",
     "evalue": "Command failed: SubmitCode: $Cred = New-Object System.Management.Automation.PS ...",
     "output_type": "error",
     "traceback": [
      "Command failed: SubmitCode: $Cred = New-Object System.Management.Automation.PS ..."
     ]
    }
   ],
   "source": [
    "$RepositoryOwner, $RepositoryName = 'PowerShell', 'PowerShell'#Change this to the target account and repo name. \n",
    "$ErrorActionPreference ='SilentlyContinue'                    #PowerShellForGitHub's update check function was causing an error with .Net interactive\n",
    "$issues = Get-GitHubIssue -OwnerName $RepositoryOwner -RepositoryName $RepositoryName -State Open\n",
    "if (-not $issues.Count) { Write-Host \"No open issues found.\"; return }\n",
    "\n",
    "$labelCounts = @{}\n",
    "foreach ($issue in $issues) {\n",
    "    foreach ($label in $issue.labels) {$labelCounts[$label.name]++}\n",
    "}\n",
    "$totalIssues = $issues.Count\n",
    "$labelStats = $labelCounts.Keys | ForEach-Object {\n",
    "    [PSCustomObject]@{\n",
    "        Label      = $_\n",
    "        Count      = $labelCounts[$_]\n",
    "        Percentage = [math]::Round(($labelCounts[$_] / $totalIssues) * 100, 2)\n",
    "    }\n",
    "}\n",
    "\n",
    "($labelStats).Where({$_.Percentage -gt 3})|Sort Percentage -Descending|FT #This is the table with count and percentage\">3%\" of which labels are applied to how many issues."
   ]
  },
  {
   "cell_type": "code",
   "execution_count": 4,
   "metadata": {
    "dotnet_interactive": {
     "language": "pwsh"
    },
    "polyglot_notebook": {
     "kernelName": "pwsh"
    },
    "vscode": {
     "languageId": "polyglot-notebook"
    }
   },
   "outputs": [
    {
     "name": "stdout",
     "output_type": "stream",
     "text": [
      "\n",
      "\u001b[32;1mCount\u001b[0m\u001b[32;1m Label                                                                                           \u001b[0m\u001b[32;1m Percentage\u001b[0m\n",
      "\u001b[32;1m-----\u001b[0m \u001b[32;1m-----                                                                                           \u001b[0m \u001b[32;1m----------\u001b[0m\n",
      "  458 [Needs-Triage](https://github.com/PowerShell/PowerShell/labels/Needs-Triage)                         53.070\n",
      "  294 [Issue-Enhancement](https://github.com/PowerShell/PowerShell/labels/Issue-Enhancement)               34.070\n",
      "  137 [WG-Engine](https://github.com/PowerShell/PowerShell/labels/WG-Engine)                               15.870\n",
      "   94 [Issue-Bug](https://github.com/PowerShell/PowerShell/labels/Issue-Bug)                               10.890\n",
      "   87 [Review - Needed](https://github.com/PowerShell/PowerShell/labels/Review%20-%20Needed)               10.080\n",
      "   77 [Up-for-Grabs](https://github.com/PowerShell/PowerShell/labels/Up-for-Grabs)                          8.920\n",
      "   69 [WG-Cmdlets-Utility](https://github.com/PowerShell/PowerShell/labels/WG-Cmdlets-Utility)              8.000\n",
      "   62 [WG-Cmdlets](https://github.com/PowerShell/PowerShell/labels/WG-Cmdlets)                              7.180\n",
      "   48 [WG-Language](https://github.com/PowerShell/PowerShell/labels/WG-Language)                            5.560\n",
      "   46 [In-PR](https://github.com/PowerShell/PowerShell/labels/In-PR)                                        5.330\n",
      "   45 [WG-Cmdlets-Management](https://github.com/PowerShell/PowerShell/labels/WG-Cmdlets-Management)        5.210\n",
      "   43 [Issue-Question](https://github.com/PowerShell/PowerShell/labels/Issue-Question)                      4.980\n",
      "   41 [Issue-Discussion](https://github.com/PowerShell/PowerShell/labels/Issue-Discussion)                  4.750\n",
      "   40 [Extra Small](https://github.com/PowerShell/PowerShell/labels/Extra%20Small)                          4.630\n",
      "   35 [WG-Cmdlets-Core](https://github.com/PowerShell/PowerShell/labels/WG-Cmdlets-Core)                    4.060\n",
      "   34 [WG-NeedsReview](https://github.com/PowerShell/PowerShell/labels/WG-NeedsReview)                      3.940\n",
      "   31 [WG-Interactive-Console](https://github.com/PowerShell/PowerShell/labels/WG-Interactive-Console)      3.590\n",
      "\n",
      "\u001b[93mWARNING: Markdown text has been copied to the clipboard.\u001b[0m\n"
     ]
    }
   ],
   "source": [
    "#Install-Module FormatMarkdownTable\n",
    "$labelStats = $labelCounts.Keys | ForEach-Object {\n",
    "    $labelUrl = \"https://github.com/$RepositoryOwner/$RepositoryName/labels/$($_ -replace ' ', '%20')\"\n",
    "    [PSCustomObject]@{\n",
    "        Label      = \"[$_]($labelUrl)\" \n",
    "        Count      = $labelCounts[$_]\n",
    "        Percentage = [math]::Round(($labelCounts[$_] / $totalIssues) * 100, 2)\n",
    "    }\n",
    "}\n",
    "\n",
    "($labelStats).Where({ $PSItem.Percentage -gt 3})|Sort Percentage -Descending|Format-MarkdownTableTableStyle"
   ]
  },
  {
   "cell_type": "markdown",
   "metadata": {},
   "source": [
    "|Count|Label|Percentage|\n",
    "|:--|:--|:--|\n",
    "|458|[Needs-Triage](https://github.com/PowerShell/PowerShell/labels/Needs-Triage)|53.07|\n",
    "|294|[Issue-Enhancement](https://github.com/PowerShell/PowerShell/labels/Issue-Enhancement)|34.07|\n",
    "|137|[WG-Engine](https://github.com/PowerShell/PowerShell/labels/WG-Engine)|15.87|\n",
    "|94|[Issue-Bug](https://github.com/PowerShell/PowerShell/labels/Issue-Bug)|10.89|\n",
    "|87|[Review - Needed](https://github.com/PowerShell/PowerShell/labels/Review%20-%20Needed)|10.08|\n",
    "|77|[Up-for-Grabs](https://github.com/PowerShell/PowerShell/labels/Up-for-Grabs)|8.92|\n",
    "|69|[WG-Cmdlets-Utility](https://github.com/PowerShell/PowerShell/labels/WG-Cmdlets-Utility)|8|\n",
    "|62|[WG-Cmdlets](https://github.com/PowerShell/PowerShell/labels/WG-Cmdlets)|7.18|\n",
    "|48|[WG-Language](https://github.com/PowerShell/PowerShell/labels/WG-Language)|5.56|\n",
    "|46|[In-PR](https://github.com/PowerShell/PowerShell/labels/In-PR)|5.33|\n",
    "|45|[WG-Cmdlets-Management](https://github.com/PowerShell/PowerShell/labels/WG-Cmdlets-Management)|5.21|\n",
    "|43|[Issue-Question](https://github.com/PowerShell/PowerShell/labels/Issue-Question)|4.98|\n",
    "|41|[Issue-Discussion](https://github.com/PowerShell/PowerShell/labels/Issue-Discussion)|4.75|\n",
    "|40|[Extra Small](https://github.com/PowerShell/PowerShell/labels/Extra%20Small)|4.63|\n",
    "|35|[WG-Cmdlets-Core](https://github.com/PowerShell/PowerShell/labels/WG-Cmdlets-Core)|4.06|\n",
    "|34|[WG-NeedsReview](https://github.com/PowerShell/PowerShell/labels/WG-NeedsReview)|3.94|\n",
    "|31|[WG-Interactive-Console](https://github.com/PowerShell/PowerShell/labels/WG-Interactive-Console)|3.59|\n"
   ]
  }
 ],
 "metadata": {
  "kernelspec": {
   "display_name": ".NET (PowerShell)",
   "language": "PowerShell",
   "name": ".net-pwsh"
  },
  "language_info": {
   "name": "pwsh"
  },
  "polyglot_notebook": {
   "kernelInfo": {
    "defaultKernelName": "pwsh",
    "items": [
     {
      "aliases": [],
      "languageName": "pwsh",
      "name": "pwsh"
     }
    ]
   }
  }
 },
 "nbformat": 4,
 "nbformat_minor": 2
}
